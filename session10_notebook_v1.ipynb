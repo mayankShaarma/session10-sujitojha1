{
 "metadata": {
  "language_info": {
   "codemirror_mode": {
    "name": "ipython",
    "version": 3
   },
   "file_extension": ".py",
   "mimetype": "text/x-python",
   "name": "python",
   "nbconvert_exporter": "python",
   "pygments_lexer": "ipython3",
   "version": "3.8.5-final"
  },
  "orig_nbformat": 2,
  "kernelspec": {
   "name": "Python 3.8.5 64-bit ('EPAi': conda)",
   "display_name": "Python 3.8.5 64-bit ('EPAi': conda)",
   "metadata": {
    "interpreter": {
     "hash": "adaf16da6f1463453574535b55da42ceadda068790e6150c5fdc0a1bbc309d95"
    }
   }
  }
 },
 "nbformat": 4,
 "nbformat_minor": 2,
 "cells": [
  {
   "source": [
    "# 1. Objective\n",
    "- Use Faker library to get 10000 random profiles. Using namedtuple, calculate the largest blood type, mean-current_location, oldest_person_age and average age (add proper doc-strings).  \n",
    "- Do the same thing above using a dictionary. Prove that namedtuple is faster.  \n",
    "- Create a fake data (you can use Faker for company names) for imaginary stock exchange for top 100 companies (name, symbol, open, high, close).  \n",
    "- Assign a random weight to all the companies. Calculate and show what value stock market started at, what was the highest value during the day and where did it end. Make sure your open, high, close are not totally random. You can only use namedtuple. - 500\n",
    "\n",
    "Add the notebook as well to your github where logs can be visible. "
   ],
   "cell_type": "markdown",
   "metadata": {
    "tags": []
   }
  },
  {
   "source": [
    "# 2. Loading the session 10 module"
   ],
   "cell_type": "markdown",
   "metadata": {}
  },
  {
   "cell_type": "code",
   "execution_count": 1,
   "metadata": {},
   "outputs": [],
   "source": [
    "import session10"
   ]
  },
  {
   "source": [
    "# 3. Fake 10000 random profiles using namedtuple"
   ],
   "cell_type": "markdown",
   "metadata": {}
  },
  {
   "source": [
    "## 3.1 Showing the docstring"
   ],
   "cell_type": "markdown",
   "metadata": {}
  },
  {
   "cell_type": "code",
   "execution_count": 2,
   "metadata": {
    "tags": []
   },
   "outputs": [
    {
     "output_type": "stream",
     "name": "stdout",
     "text": "Help on class Fake_Profile in module session10:\n\nclass Fake_Profile(builtins.tuple)\n |  Fake_Profile(address, birthdate, blood_group, company, current_location, job, mail, name, residence, sex, ssn, username, website)\n |  \n |  Fake Profile Created using Faker library\n |  \n |  Method resolution order:\n |      Fake_Profile\n |      builtins.tuple\n |      builtins.object\n |  \n |  Methods defined here:\n |  \n |  __getnewargs__(self)\n |      Return self as a plain tuple.  Used by copy and pickle.\n |  \n |  __repr__(self)\n |      Return a nicely formatted representation string\n |  \n |  _asdict(self)\n |      Return a new dict which maps field names to their values.\n |  \n |  _replace(self, /, **kwds)\n |      Return a new Fake_Profile object replacing specified fields with new values\n |  \n |  ----------------------------------------------------------------------\n |  Class methods defined here:\n |  \n |  _make(iterable) from builtins.type\n |      Make a new Fake_Profile object from a sequence or iterable\n |  \n |  ----------------------------------------------------------------------\n |  Static methods defined here:\n |  \n |  __new__(_cls, address, birthdate, blood_group, company, current_location, job, mail, name, residence, sex, ssn, username, website)\n |      Create new instance of Fake_Profile(address, birthdate, blood_group, company, current_location, job, mail, name, residence, sex, ssn, username, website)\n |  \n |  ----------------------------------------------------------------------\n |  Data descriptors defined here:\n |  \n |  address\n |      Permanent Address\n |  \n |  birthdate\n |      Birth Date\n |  \n |  blood_group\n |      Blood Group e.g. A+,AB+, O,O+\n |  \n |  company\n |      Company\n |  \n |  current_location\n |      Current Location in Latitude and Longitude\n |  \n |  job\n |      Job Title\n |  \n |  mail\n |      email address\n |  \n |  name\n |      Name\n |  \n |  residence\n |      Residential Address\n |  \n |  sex\n |      Sex\n |  \n |  ssn\n |      Social Security Number\n |  \n |  username\n |      Username\n |  \n |  website\n |      Website\n |  \n |  ----------------------------------------------------------------------\n |  Data and other attributes defined here:\n |  \n |  _field_defaults = {}\n |  \n |  _fields = ('address', 'birthdate', 'blood_group', 'company', 'current_...\n |  \n |  _fields_defaults = {}\n |  \n |  ----------------------------------------------------------------------\n |  Methods inherited from builtins.tuple:\n |  \n |  __add__(self, value, /)\n |      Return self+value.\n |  \n |  __contains__(self, key, /)\n |      Return key in self.\n |  \n |  __eq__(self, value, /)\n |      Return self==value.\n |  \n |  __ge__(self, value, /)\n |      Return self>=value.\n |  \n |  __getattribute__(self, name, /)\n |      Return getattr(self, name).\n |  \n |  __getitem__(self, key, /)\n |      Return self[key].\n |  \n |  __gt__(self, value, /)\n |      Return self>value.\n |  \n |  __hash__(self, /)\n |      Return hash(self).\n |  \n |  __iter__(self, /)\n |      Implement iter(self).\n |  \n |  __le__(self, value, /)\n |      Return self<=value.\n |  \n |  __len__(self, /)\n |      Return len(self).\n |  \n |  __lt__(self, value, /)\n |      Return self<value.\n |  \n |  __mul__(self, value, /)\n |      Return self*value.\n |  \n |  __ne__(self, value, /)\n |      Return self!=value.\n |  \n |  __rmul__(self, value, /)\n |      Return value*self.\n |  \n |  count(self, value, /)\n |      Return number of occurrences of value.\n |  \n |  index(self, value, start=0, stop=9223372036854775807, /)\n |      Return first index of value.\n |      \n |      Raises ValueError if the value is not present.\n\n"
    }
   ],
   "source": [
    "help(session10.profile)"
   ]
  },
  {
   "source": [
    "## 3.2 Showing the sample fake profile"
   ],
   "cell_type": "markdown",
   "metadata": {}
  },
  {
   "cell_type": "code",
   "execution_count": 3,
   "metadata": {},
   "outputs": [
    {
     "output_type": "execute_result",
     "data": {
      "text/plain": "Fake_Profile(address='271 Christopher Green\\nJasonfort, KS 23909', birthdate=datetime.date(2018, 6, 30), blood_group='O-', company='Young, Flynn and Villa', current_location=(Decimal('-52.357338'), Decimal('58.602667')), job='Forensic psychologist', mail='schroederrobert@hotmail.com', name='Valerie Strickland', residence='443 Carter Fords Suite 583\\nDanielfurt, NH 48821', sex='F', ssn='256-43-8765', username='adamsjennifer', website=['https://www.bryant.info/', 'https://holmes.net/', 'https://www.williams-gallagher.com/', 'https://www.nelson.info/'])"
     },
     "metadata": {},
     "execution_count": 3
    }
   ],
   "source": [
    "session10.fake_profiles_tupple.profile_0"
   ]
  },
  {
   "source": [
    "## 3.3 Largest blood group in the fake profiles"
   ],
   "cell_type": "markdown",
   "metadata": {}
  },
  {
   "cell_type": "code",
   "execution_count": 4,
   "metadata": {
    "tags": []
   },
   "outputs": [
    {
     "output_type": "stream",
     "name": "stdout",
     "text": "Dictionary Results\nLargest blood group is A+ and average of 200 run it took 16.02 ms\nNamed Tuple Results\nLargest blood group is A+ and average of 200 run it took 11.41 ms\n"
    }
   ],
   "source": [
    "ntple_time, dict_time = session10.largest_blood_type(session10.fake_profiles_tupple, session10.profiles_dict)"
   ]
  },
  {
   "source": [
    "## 3.3. Mean current location in the fake profiles"
   ],
   "cell_type": "markdown",
   "metadata": {}
  },
  {
   "cell_type": "code",
   "execution_count": 5,
   "metadata": {
    "tags": []
   },
   "outputs": [
    {
     "output_type": "stream",
     "name": "stdout",
     "text": "Dictionary Results\nMean location: Latitude = 0.43123699785, Longitude = 0.6223478621 and average of 200 run it took 12.91 ms\nNamed Tuple Results\nMean location: Latitude = 0.43123699785, Longitude = 0.6223478621 and average of 200 run it took 11.23 ms\n"
    }
   ],
   "source": [
    "ntple_time,dict_time = session10.mean_current_location(session10.fake_profiles_tupple,session10.profiles_dict)"
   ]
  },
  {
   "source": [
    "## 3.4 Oldest person age in the fake profiles"
   ],
   "cell_type": "markdown",
   "metadata": {}
  },
  {
   "cell_type": "code",
   "execution_count": 6,
   "metadata": {
    "tags": []
   },
   "outputs": [
    {
     "output_type": "stream",
     "name": "stdout",
     "text": "Dictionary Results\nOldest Person Age (years): 116 and average of 200 run it took 2.30 ms\nNamed Tuple Results\nOldest Person Age (years): 116 and average of 200 run it took 1.74 ms\n"
    }
   ],
   "source": [
    "ntple_time,dict_time = session10.oldest_person_age(session10.fake_profiles_tupple,session10.profiles_dict)"
   ]
  },
  {
   "source": [
    "## 3.5 Average age in the fake profiles"
   ],
   "cell_type": "markdown",
   "metadata": {}
  },
  {
   "cell_type": "code",
   "execution_count": 10,
   "metadata": {
    "tags": []
   },
   "outputs": [
    {
     "output_type": "stream",
     "name": "stdout",
     "text": "Dictionary Results\nAverage Age (years): 58 and average of 200 run it took 24.63 ms\nNamed Tuple Results\nAverage Age (years): 58 and average of 200 run it took 22.17 ms\n"
    }
   ],
   "source": [
    "ntple_time,dict_time = session10.average_age(session10.fake_profiles_tupple,session10.profiles_dict)"
   ]
  },
  {
   "source": [
    "# 4. Stock Market data for 100 companies"
   ],
   "cell_type": "markdown",
   "metadata": {}
  },
  {
   "cell_type": "code",
   "execution_count": 8,
   "metadata": {},
   "outputs": [
    {
     "output_type": "execute_result",
     "data": {
      "text/plain": "(CompanyStockData(Company_Name='Cardenas-Davis', Symbol='CARD', Open=3940.632, High=4334.21, Close=4014.892),\n CompanyStockData(Company_Name='Johnson, Guerrero and Myers', Symbol='JOHN', Open=1708.968, High=1934.46, Close=1810.276),\n CompanyStockData(Company_Name='Vargas, Patterson and Brown', Symbol='VARG', Open=1197.516, High=1401.938, Close=1354.398),\n CompanyStockData(Company_Name='Kelly-Sandoval', Symbol='KELL', Open=4963.856, High=5005.936, Close=4265.328),\n CompanyStockData(Company_Name='Watkins-Greene', Symbol='WATK', Open=1339.3, High=1439.725, Close=1292.95))"
     },
     "metadata": {},
     "execution_count": 8
    }
   ],
   "source": [
    "session10.company_stock_market_tupple[0:5]"
   ]
  },
  {
   "cell_type": "code",
   "execution_count": 9,
   "metadata": {
    "tags": []
   },
   "outputs": [
    {
     "output_type": "stream",
     "name": "stdout",
     "text": "Stock Market Start: 281885.28,High: 301245.69, End: 280816.54\n"
    }
   ],
   "source": [
    "start, high, close = session10.stock_market_status(session10.company_stock_market_tupple)"
   ]
  }
 ]
}