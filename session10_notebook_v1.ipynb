{
 "metadata": {
  "language_info": {
   "codemirror_mode": {
    "name": "ipython",
    "version": 3
   },
   "file_extension": ".py",
   "mimetype": "text/x-python",
   "name": "python",
   "nbconvert_exporter": "python",
   "pygments_lexer": "ipython3",
   "version": "3.8.5-final"
  },
  "orig_nbformat": 2,
  "kernelspec": {
   "name": "Python 3.8.5 64-bit ('EPAi': conda)",
   "display_name": "Python 3.8.5 64-bit ('EPAi': conda)",
   "metadata": {
    "interpreter": {
     "hash": "adaf16da6f1463453574535b55da42ceadda068790e6150c5fdc0a1bbc309d95"
    }
   }
  }
 },
 "nbformat": 4,
 "nbformat_minor": 2,
 "cells": [
  {
   "source": [
    "# 1. Objective\n",
    "- Use Faker library to get 10000 random profiles. Using namedtuple, calculate the largest blood type, mean-current_location, oldest_person_age and average age (add proper doc-strings).  \n",
    "- Do the same thing above using a dictionary. Prove that namedtuple is faster.  \n",
    "- Create a fake data (you can use Faker for company names) for imaginary stock exchange for top 100 companies (name, symbol, open, high, close).  \n",
    "- Assign a random weight to all the companies. Calculate and show what value stock market started at, what was the highest value during the day and where did it end. Make sure your open, high, close are not totally random. You can only use namedtuple. - 500\n",
    "\n",
    "Add the notebook as well to your github where logs can be visible. "
   ],
   "cell_type": "markdown",
   "metadata": {
    "tags": []
   }
  },
  {
   "source": [
    "# 2. Loading the session 10 module"
   ],
   "cell_type": "markdown",
   "metadata": {}
  },
  {
   "cell_type": "code",
   "execution_count": 1,
   "metadata": {},
   "outputs": [],
   "source": [
    "import session10"
   ]
  },
  {
   "source": [
    "# 3. Fake 10000 random profiles using namedtuple"
   ],
   "cell_type": "markdown",
   "metadata": {}
  },
  {
   "source": [
    "## 3.1 Showing the docstring"
   ],
   "cell_type": "markdown",
   "metadata": {}
  },
  {
   "cell_type": "code",
   "execution_count": 2,
   "metadata": {
    "tags": []
   },
   "outputs": [
    {
     "output_type": "stream",
     "name": "stdout",
     "text": "Help on class Fake_Profile in module session10:\n\nclass Fake_Profile(builtins.tuple)\n |  Fake_Profile(address, birthdate, blood_group, company, current_location, job, mail, name, residence, sex, ssn, username, website)\n |  \n |  Fake Profile Created using Faker library\n |  \n |  Method resolution order:\n |      Fake_Profile\n |      builtins.tuple\n |      builtins.object\n |  \n |  Methods defined here:\n |  \n |  __getnewargs__(self)\n |      Return self as a plain tuple.  Used by copy and pickle.\n |  \n |  __repr__(self)\n |      Return a nicely formatted representation string\n |  \n |  _asdict(self)\n |      Return a new dict which maps field names to their values.\n |  \n |  _replace(self, /, **kwds)\n |      Return a new Fake_Profile object replacing specified fields with new values\n |  \n |  ----------------------------------------------------------------------\n |  Class methods defined here:\n |  \n |  _make(iterable) from builtins.type\n |      Make a new Fake_Profile object from a sequence or iterable\n |  \n |  ----------------------------------------------------------------------\n |  Static methods defined here:\n |  \n |  __new__(_cls, address, birthdate, blood_group, company, current_location, job, mail, name, residence, sex, ssn, username, website)\n |      Create new instance of Fake_Profile(address, birthdate, blood_group, company, current_location, job, mail, name, residence, sex, ssn, username, website)\n |  \n |  ----------------------------------------------------------------------\n |  Data descriptors defined here:\n |  \n |  address\n |      Permanent Address\n |  \n |  birthdate\n |      Birth Date\n |  \n |  blood_group\n |      Blood Group e.g. A+,AB+, O,O+\n |  \n |  company\n |      Company\n |  \n |  current_location\n |      Current Location in Latitude and Longitude\n |  \n |  job\n |      Job Title\n |  \n |  mail\n |      email address\n |  \n |  name\n |      Name\n |  \n |  residence\n |      Residential Address\n |  \n |  sex\n |      Sex\n |  \n |  ssn\n |      Social Security Number\n |  \n |  username\n |      Username\n |  \n |  website\n |      Website\n |  \n |  ----------------------------------------------------------------------\n |  Data and other attributes defined here:\n |  \n |  _field_defaults = {}\n |  \n |  _fields = ('address', 'birthdate', 'blood_group', 'company', 'current_...\n |  \n |  _fields_defaults = {}\n |  \n |  ----------------------------------------------------------------------\n |  Methods inherited from builtins.tuple:\n |  \n |  __add__(self, value, /)\n |      Return self+value.\n |  \n |  __contains__(self, key, /)\n |      Return key in self.\n |  \n |  __eq__(self, value, /)\n |      Return self==value.\n |  \n |  __ge__(self, value, /)\n |      Return self>=value.\n |  \n |  __getattribute__(self, name, /)\n |      Return getattr(self, name).\n |  \n |  __getitem__(self, key, /)\n |      Return self[key].\n |  \n |  __gt__(self, value, /)\n |      Return self>value.\n |  \n |  __hash__(self, /)\n |      Return hash(self).\n |  \n |  __iter__(self, /)\n |      Implement iter(self).\n |  \n |  __le__(self, value, /)\n |      Return self<=value.\n |  \n |  __len__(self, /)\n |      Return len(self).\n |  \n |  __lt__(self, value, /)\n |      Return self<value.\n |  \n |  __mul__(self, value, /)\n |      Return self*value.\n |  \n |  __ne__(self, value, /)\n |      Return self!=value.\n |  \n |  __rmul__(self, value, /)\n |      Return value*self.\n |  \n |  count(self, value, /)\n |      Return number of occurrences of value.\n |  \n |  index(self, value, start=0, stop=9223372036854775807, /)\n |      Return first index of value.\n |      \n |      Raises ValueError if the value is not present.\n\n"
    }
   ],
   "source": [
    "help(session10.profile)"
   ]
  },
  {
   "source": [
    "## 3.2 Showing the sample fake profile"
   ],
   "cell_type": "markdown",
   "metadata": {}
  },
  {
   "cell_type": "code",
   "execution_count": 3,
   "metadata": {},
   "outputs": [
    {
     "output_type": "execute_result",
     "data": {
      "text/plain": "Fake_Profile(address='736 Williams Heights Suite 406\\nBakerchester, VT 64938', birthdate=datetime.date(1920, 8, 14), blood_group='O-', company='Vance and Sons', current_location=(Decimal('-69.0128065'), Decimal('70.604366')), job='Building surveyor', mail='christinewilson@gmail.com', name='Timothy White', residence='59921 Jennifer Garden\\nKatherineside, DC 96493', sex='M', ssn='507-93-3104', username='uoneill', website=['http://www.gordon-wilson.biz/', 'https://www.perez-larson.com/', 'http://reed.com/'])"
     },
     "metadata": {},
     "execution_count": 3
    }
   ],
   "source": [
    "session10.fake_profiles_tupple.profile_0"
   ]
  },
  {
   "source": [
    "## 3.3 Largest blood group in the fake profiles"
   ],
   "cell_type": "markdown",
   "metadata": {}
  },
  {
   "cell_type": "code",
   "execution_count": 10,
   "metadata": {
    "tags": []
   },
   "outputs": [
    {
     "output_type": "stream",
     "name": "stdout",
     "text": "Dictionary Results\nLargest blood group is A+ and average of 200 run it took 11.20 ms\nNamed Tuple Results\nLargest blood group is A+ and average of 200 run it took 9.68 ms\n"
    }
   ],
   "source": [
    "ntple_time, dict_time = session10.largest_blood_type(session10.fake_profiles_tupple, session10.profiles_dict)"
   ]
  },
  {
   "source": [
    "## 3.3. Mean current location in the fake profiles"
   ],
   "cell_type": "markdown",
   "metadata": {}
  },
  {
   "cell_type": "code",
   "execution_count": 5,
   "metadata": {
    "tags": []
   },
   "outputs": [
    {
     "output_type": "stream",
     "name": "stdout",
     "text": "Dictionary Results\nMean location: Latitude = 0.21116635955, Longitude = 1.2422459702 and average of 200 run it took 18.59 ms\nNamed Tuple Results\nMean location: Latitude = 0.21116635955, Longitude = 1.2422459702 and average of 200 run it took 12.61 ms\n"
    }
   ],
   "source": [
    "ntple_time,dict_time = session10.mean_current_location(session10.fake_profiles_tupple,session10.profiles_dict)"
   ]
  },
  {
   "source": [
    "## 3.4 Oldest person age in the fake profiles"
   ],
   "cell_type": "markdown",
   "metadata": {}
  },
  {
   "cell_type": "code",
   "execution_count": 6,
   "metadata": {
    "tags": []
   },
   "outputs": [
    {
     "output_type": "stream",
     "name": "stdout",
     "text": "Dictionary Results\nOldest Person Age (years): 116 and average of 200 run it took 2.75 ms\nNamed Tuple Results\nOldest Person Age (years): 116 and average of 200 run it took 1.88 ms\n"
    }
   ],
   "source": [
    "ntple_time,dict_time = session10.oldest_person_age(session10.fake_profiles_tupple,session10.profiles_dict)"
   ]
  },
  {
   "source": [
    "## 3.5 Average age in the fake profiles"
   ],
   "cell_type": "markdown",
   "metadata": {}
  },
  {
   "cell_type": "code",
   "execution_count": 11,
   "metadata": {
    "tags": []
   },
   "outputs": [
    {
     "output_type": "stream",
     "name": "stdout",
     "text": "Dictionary Results\nAverage Age (years): 57 and average of 200 run it took 23.40 ms\nNamed Tuple Results\nAverage Age (years): 57 and average of 200 run it took 21.33 ms\n"
    }
   ],
   "source": [
    "ntple_time,dict_time = session10.average_age(session10.fake_profiles_tupple,session10.profiles_dict)"
   ]
  },
  {
   "source": [
    "# 4. Stock Market data for 100 companies"
   ],
   "cell_type": "markdown",
   "metadata": {}
  },
  {
   "cell_type": "code",
   "execution_count": 8,
   "metadata": {},
   "outputs": [
    {
     "output_type": "execute_result",
     "data": {
      "text/plain": "(CompanyStockData(Company_Name='Lewis, Williams and Griffith', Symbol='LEWI', Open=2267.5, High=2672.895, Close=2559.02),\n CompanyStockData(Company_Name='Willis LLC', Symbol='WILL', Open=402.36, High=451.526, Close=429.322),\n CompanyStockData(Company_Name='Oliver, Jones and Hunt', Symbol='OLIV', Open=880.114, High=880.114, Close=741.916),\n CompanyStockData(Company_Name='Brown Group', Symbol='BROW', Open=3565.68, High=3565.68, Close=3541.52),\n CompanyStockData(Company_Name='Cruz-Cook', Symbol='CRUZ', Open=5044.61, High=5386.99, Close=4909.46))"
     },
     "metadata": {},
     "execution_count": 8
    }
   ],
   "source": [
    "session10.company_stock_market_tupple[0:5]"
   ]
  },
  {
   "cell_type": "code",
   "execution_count": 9,
   "metadata": {
    "tags": []
   },
   "outputs": [
    {
     "output_type": "stream",
     "name": "stdout",
     "text": "Stock Market Start: 282349.60,High: 302931.71, End: 280711.81\n"
    }
   ],
   "source": [
    "session10.stock_market_status(session10.company_stock_market_tupple)"
   ]
  }
 ]
}